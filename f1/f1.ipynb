{
 "cells": [
  {
   "cell_type": "markdown",
   "id": "e516e5cf",
   "metadata": {},
   "source": [
    "# Adatbeolvasás"
   ]
  },
  {
   "cell_type": "code",
   "execution_count": 2,
   "id": "acbf2c18",
   "metadata": {},
   "outputs": [
    {
     "name": "stdout",
     "output_type": "stream",
     "text": [
      "Csomagok betöltve, készen állunk!\n"
     ]
    }
   ],
   "source": [
    "# 📦 Szükséges csomagok importálása\n",
    "import pandas as pd\n",
    "import numpy as np\n",
    "\n",
    "print(\"Csomagok betöltve, készen állunk!\")\n"
   ]
  },
  {
   "cell_type": "code",
   "execution_count": 3,
   "id": "d8c5409f",
   "metadata": {},
   "outputs": [
    {
     "name": "stdout",
     "output_type": "stream",
     "text": [
      "CSV fájlok sikeresen betöltve!\n"
     ]
    }
   ],
   "source": [
    "# 📂 CSV fájlok helye\n",
    "csv_path = \"/home/g14/sze_adatelemzes/f1/database\"\n",
    "\n",
    "# CSV fájlok beolvasása\n",
    "versenyzok = pd.read_csv(f\"{csv_path}/f1_dataset_versenyzok.csv\")\n",
    "konstruktorok = pd.read_csv(f\"{csv_path}/f1_dataset_konstruktorok.csv\")\n",
    "helyszinek = pd.read_csv(f\"{csv_path}/f1_dataset_helyszinek.csv\")\n",
    "idojarasi_korulmenyek = pd.read_csv(f\"{csv_path}/f1_dataset_idojarasi_korulmenyek.csv\")\n",
    "autok = pd.read_csv(f\"{csv_path}/f1_dataset_autok.csv\")\n",
    "szezonok = pd.read_csv(f\"{csv_path}/f1_dataset_szezonok.csv\")\n",
    "futamok = pd.read_csv(f\"{csv_path}/f1_dataset_futamok.csv\")\n",
    "helyezesek = pd.read_csv(f\"{csv_path}/f1_dataset_helyezesek.csv\")\n",
    "\n",
    "print(\"CSV fájlok sikeresen betöltve!\")\n"
   ]
  },
  {
   "cell_type": "code",
   "execution_count": 4,
   "id": "c821b41c",
   "metadata": {},
   "outputs": [
    {
     "data": {
      "text/html": [
       "<div>\n",
       "<style scoped>\n",
       "    .dataframe tbody tr th:only-of-type {\n",
       "        vertical-align: middle;\n",
       "    }\n",
       "\n",
       "    .dataframe tbody tr th {\n",
       "        vertical-align: top;\n",
       "    }\n",
       "\n",
       "    .dataframe thead th {\n",
       "        text-align: right;\n",
       "    }\n",
       "</style>\n",
       "<table border=\"1\" class=\"dataframe\">\n",
       "  <thead>\n",
       "    <tr style=\"text-align: right;\">\n",
       "      <th></th>\n",
       "      <th>versenyzo_id</th>\n",
       "      <th>keresztnev</th>\n",
       "      <th>vezeteknev</th>\n",
       "      <th>orszag</th>\n",
       "      <th>beszelt_nyelv</th>\n",
       "      <th>konstruktor_id</th>\n",
       "      <th>szuletesi_datum</th>\n",
       "      <th>kod</th>\n",
       "    </tr>\n",
       "  </thead>\n",
       "  <tbody>\n",
       "    <tr>\n",
       "      <th>0</th>\n",
       "      <td>1</td>\n",
       "      <td>Lewis</td>\n",
       "      <td>Hamilton</td>\n",
       "      <td>Egyesult Kiralysag</td>\n",
       "      <td>angol</td>\n",
       "      <td>1</td>\n",
       "      <td>1985-01-07</td>\n",
       "      <td>HAM</td>\n",
       "    </tr>\n",
       "    <tr>\n",
       "      <th>1</th>\n",
       "      <td>2</td>\n",
       "      <td>Nick</td>\n",
       "      <td>Heidfeld</td>\n",
       "      <td>Nemetorszag</td>\n",
       "      <td>nemet</td>\n",
       "      <td>2</td>\n",
       "      <td>1977-05-10</td>\n",
       "      <td>HEI</td>\n",
       "    </tr>\n",
       "    <tr>\n",
       "      <th>2</th>\n",
       "      <td>3</td>\n",
       "      <td>Nico</td>\n",
       "      <td>Rosberg</td>\n",
       "      <td>Nemetorszag</td>\n",
       "      <td>nemet</td>\n",
       "      <td>2</td>\n",
       "      <td>1985-06-27</td>\n",
       "      <td>ROS</td>\n",
       "    </tr>\n",
       "    <tr>\n",
       "      <th>3</th>\n",
       "      <td>4</td>\n",
       "      <td>Fernando</td>\n",
       "      <td>Alonso</td>\n",
       "      <td>Spanyolorszag</td>\n",
       "      <td>spanyol</td>\n",
       "      <td>164</td>\n",
       "      <td>1981-07-29</td>\n",
       "      <td>ALO</td>\n",
       "    </tr>\n",
       "    <tr>\n",
       "      <th>4</th>\n",
       "      <td>5</td>\n",
       "      <td>Heikki</td>\n",
       "      <td>Kovalainen</td>\n",
       "      <td>Finnorszag</td>\n",
       "      <td>finn</td>\n",
       "      <td>136</td>\n",
       "      <td>1981-10-19</td>\n",
       "      <td>KOV</td>\n",
       "    </tr>\n",
       "  </tbody>\n",
       "</table>\n",
       "</div>"
      ],
      "text/plain": [
       "   versenyzo_id keresztnev  vezeteknev              orszag beszelt_nyelv  \\\n",
       "0             1      Lewis    Hamilton  Egyesult Kiralysag         angol   \n",
       "1             2       Nick    Heidfeld         Nemetorszag         nemet   \n",
       "2             3       Nico     Rosberg         Nemetorszag         nemet   \n",
       "3             4   Fernando      Alonso       Spanyolorszag       spanyol   \n",
       "4             5     Heikki  Kovalainen          Finnorszag          finn   \n",
       "\n",
       "   konstruktor_id szuletesi_datum  kod  \n",
       "0               1      1985-01-07  HAM  \n",
       "1               2      1977-05-10  HEI  \n",
       "2               2      1985-06-27  ROS  \n",
       "3             164      1981-07-29  ALO  \n",
       "4             136      1981-10-19  KOV  "
      ]
     },
     "metadata": {},
     "output_type": "display_data"
    }
   ],
   "source": [
    "# 📊 Versenyzők táblázat előnézete\n",
    "display(versenyzok.head())"
   ]
  },
  {
   "cell_type": "markdown",
   "id": "49d92635",
   "metadata": {},
   "source": [
    "# Típuskonverziók"
   ]
  },
  {
   "cell_type": "code",
   "execution_count": 5,
   "id": "d05921da",
   "metadata": {},
   "outputs": [
    {
     "name": "stdout",
     "output_type": "stream",
     "text": [
      "Adattípus konverziók sikeresen végrehajtva!\n",
      "Futamok legelső dátuma: 1950-05-13\n",
      "Futamok legutolsó dátuma: 2022-11-20\n",
      "Versenyzők legkorábbi születési dátuma: 1896-12-28 00:00:00\n",
      "Versenyzők legkésőbbi születési dátuma: 2000-05-11 00:00:00\n"
     ]
    }
   ],
   "source": [
    "# 🔄 Adattípus konverziók\n",
    "\n",
    "#  A 'szuletesi_datum' oszlopot datetime típusra konvertáljuk.\n",
    "#  Ha az érték nem konvertálható, NaT lesz (errors=\"coerce\").\n",
    "versenyzok[\"szuletesi_datum\"] = pd.to_datetime(\n",
    "    versenyzok[\"szuletesi_datum\"], errors=\"coerce\"\n",
    ")\n",
    "\n",
    "#  A 'datum' oszlopot datetime típusú dátummá konvertáljuk.\n",
    "#  Csak a dátumot tartjuk meg (.dt.date), az időt eldobjuk.\n",
    "futamok[\"datum\"] = pd.to_datetime(futamok[\"datum\"], errors=\"coerce\").dt.date\n",
    "\n",
    "#  Az 'ido' oszlopot datetime típusú idővé konvertáljuk a \"%H:%M:%S\" formátum szerint.\n",
    "#  Csak az időt tartjuk meg (.dt.time).\n",
    "futamok[\"ido\"] = pd.to_datetime(\n",
    "    futamok[\"ido\"], format=\"%H:%M:%S\", errors=\"coerce\"\n",
    ").dt.time\n",
    "\n",
    "#  A 'ev' oszlopot datetime formátumra konvertáljuk, csak az év alapján.\n",
    "#  Ha csak az év szerepel, január 1. lesz automatikusan hozzárendelve.\n",
    "szezonok[\"ev\"] = pd.to_datetime(\n",
    "    szezonok[\"ev\"], format=\"%Y\", errors=\"coerce\"\n",
    ")\n",
    "\n",
    "#  A 'verseny_ido' oszlopot datetime típusú idővé konvertáljuk a \"%H:%M:%S\" formátum szerint.\n",
    "#  Csak az időt tartjuk meg (.dt.time).\n",
    "helyezesek[\"verseny_ido\"] = pd.to_datetime(\n",
    "    helyezesek[\"verseny_ido\"], format=\"%H:%M:%S\", errors=\"coerce\"\n",
    ").dt.time\n",
    "\n",
    "# Kiírás a felhasználónak, hogy minden konverzió sikeresen végrehajtva\n",
    "print(\"Adattípus konverziók sikeresen végrehajtva!\")\n",
    "\n",
    "# Futamok - legelső és legutolsó dátum\n",
    "print(\"Futamok legelső dátuma:\", futamok[\"datum\"].min())\n",
    "print(\"Futamok legutolsó dátuma:\", futamok[\"datum\"].max())\n",
    "\n",
    "# Versenyzők születési dátuma - legelső és legutolsó\n",
    "print(\"Versenyzők legkorábbi születési dátuma:\", versenyzok[\"szuletesi_datum\"].min())\n",
    "print(\"Versenyzők legkésőbbi születési dátuma:\", versenyzok[\"szuletesi_datum\"].max())\n"
   ]
  },
  {
   "cell_type": "markdown",
   "id": "b1d78771",
   "metadata": {},
   "source": [
    "# Formátum ellenőrzés"
   ]
  },
  {
   "cell_type": "code",
   "execution_count": 6,
   "id": "3d485a64",
   "metadata": {},
   "outputs": [
    {
     "name": "stdout",
     "output_type": "stream",
     "text": [
      "Versenyzők:\n",
      " versenyzo_id                int64\n",
      "keresztnev                 object\n",
      "vezeteknev                 object\n",
      "orszag                     object\n",
      "beszelt_nyelv              object\n",
      "konstruktor_id              int64\n",
      "szuletesi_datum    datetime64[ns]\n",
      "kod                        object\n",
      "dtype: object \n",
      "\n",
      "Futamok:\n",
      " futam_id                           int64\n",
      "szezon_id                          int64\n",
      "helyszin_id                        int64\n",
      "datum                             object\n",
      "ido                       datetime64[ns]\n",
      "idojarasi_korulmeny_id             int64\n",
      "dtype: object \n",
      "\n",
      "Szezonok:\n",
      " szezon_id             int64\n",
      "ev           datetime64[ns]\n",
      "dtype: object \n",
      "\n",
      "Helyezések:\n",
      " helyezes_id         int64\n",
      "versenyzo_id        int64\n",
      "elert_helyezes    float64\n",
      "pole_poz            int64\n",
      "verseny_ido        object\n",
      "szezon_id           int64\n",
      "futam_id            int64\n",
      "auto_id           float64\n",
      "konstruktor_id      int64\n",
      "korok_szama         int64\n",
      "dtype: object \n",
      "\n"
     ]
    }
   ],
   "source": [
    "# ✅ Ellenőrzés: adattípusok megtekintése\n",
    "print(\"Versenyzők:\\n\", versenyzok.dtypes, \"\\n\")\n",
    "print(\"Futamok:\\n\", futamok.dtypes, \"\\n\")\n",
    "print(\"Szezonok:\\n\", szezonok.dtypes, \"\\n\")\n",
    "print(\"Helyezések:\\n\", helyezesek.dtypes, \"\\n\")\n"
   ]
  },
  {
   "cell_type": "markdown",
   "id": "254d6c02",
   "metadata": {},
   "source": [
    "# Statisztikai jellemzők"
   ]
  },
  {
   "cell_type": "code",
   "execution_count": 7,
   "id": "4494c397",
   "metadata": {},
   "outputs": [
    {
     "name": "stdout",
     "output_type": "stream",
     "text": [
      "Tábla neve: versenyzok\n",
      "Sorok és oszlopok: (854, 8)\n",
      "\n",
      "\n",
      "Tábla neve: konstruktorok\n",
      "Sorok és oszlopok: (212, 4)\n",
      "\n",
      "\n",
      "Tábla neve: helyszinek\n",
      "Sorok és oszlopok: (76, 4)\n",
      "\n",
      "\n",
      "Tábla neve: idojarasi_korulmenyek\n",
      "Sorok és oszlopok: (9, 2)\n",
      "\n",
      "\n",
      "Tábla neve: autok\n",
      "Sorok és oszlopok: (565, 6)\n",
      "\n",
      "\n",
      "Tábla neve: szezonok\n",
      "Sorok és oszlopok: (73, 2)\n",
      "\n",
      "\n",
      "Tábla neve: futamok\n",
      "Sorok és oszlopok: (1079, 6)\n",
      "\n",
      "\n",
      "Tábla neve: helyezesek\n",
      "Sorok és oszlopok: (25660, 10)\n",
      "\n",
      "\n"
     ]
    }
   ],
   "source": [
    "# Listázunk minden DataFrame-et egy szótárban\n",
    "dfs = {\n",
    "    \"versenyzok\": versenyzok,\n",
    "    \"konstruktorok\": konstruktorok,\n",
    "    \"helyszinek\": helyszinek,\n",
    "    \"idojarasi_korulmenyek\": idojarasi_korulmenyek,\n",
    "    \"autok\": autok,\n",
    "    \"szezonok\": szezonok,\n",
    "    \"futamok\": futamok,\n",
    "    \"helyezesek\": helyezesek\n",
    "}\n",
    "\n",
    "# Minden DataFrame statisztikai jellemzőinek kiíratása\n",
    "for name, df in dfs.items():\n",
    "    print(f\"Tábla neve: {name}\")\n",
    "    print(f\"Sorok és oszlopok: {df.shape}\")\n",
    "    print(\"\\n\")"
   ]
  },
  {
   "cell_type": "markdown",
   "id": "df8ed7ed",
   "metadata": {},
   "source": [
    "# Lekérdezések"
   ]
  },
  {
   "cell_type": "markdown",
   "id": "d7a984e1",
   "metadata": {},
   "source": [
    "## 1. Listázza ki azokat a pilótákat, akik pole pozícióból kerültek dobogós helyre a 2019-es szezonban!"
   ]
  },
  {
   "cell_type": "code",
   "execution_count": 8,
   "id": "eeab279d",
   "metadata": {},
   "outputs": [
    {
     "name": "stdout",
     "output_type": "stream",
     "text": [
      "['helyezes_id', 'versenyzo_id', 'elert_helyezes', 'pole_poz', 'verseny_ido', 'szezon_id', 'futam_id', 'auto_id', 'konstruktor_id', 'korok_szama', 'ev']\n"
     ]
    },
    {
     "data": {
      "text/plain": [
       "0      Max Verstappen\n",
       "1     Charles Leclerc\n",
       "2    Sebastian Vettel\n",
       "3      Lewis Hamilton\n",
       "4     Valtteri Bottas\n",
       "Name: Nev, dtype: object"
      ]
     },
     "metadata": {},
     "output_type": "display_data"
    }
   ],
   "source": [
    "# Merge: helyezesek + szezonok (2019-re szűrés)\n",
    "merged = helyezesek.merge(szezonok, on=\"szezon_id\")\n",
    "\n",
    "# Oszlopok ellenőrzése\n",
    "print(merged.columns.tolist())\n",
    "\n",
    "# Szűrés: 2019, dobogó, pole\n",
    "filtered = merged[\n",
    "    (merged[\"ev\"].dt.year == 2019) &   # szezon 2019\n",
    "    (merged[\"elert_helyezes\"] <= 3) &  # dobogó\n",
    "    (merged[\"pole_poz\"] == 1)          # pole pozíció\n",
    "]\n",
    "\n",
    "# Merge (összekapcsolás) a 'filtered' DataFrame és a 'versenyzok' DataFrame között\n",
    "# a 'versenyzo_id' oszlop alapján, hogy megkapjuk a versenyzők nevét\n",
    "result = filtered.merge(versenyzok, on=\"versenyzo_id\")\n",
    "\n",
    "# Új oszlop létrehozása 'Nev' néven, ahol a kereszt- és vezetéknév össze van fűzve\n",
    "result[\"Nev\"] = result[\"keresztnev\"] + \" \" + result[\"vezeteknev\"]\n",
    "\n",
    "# Csak a különböző neveket hagyjuk meg (DISTINCT)\n",
    "# A reset_index(drop=True) eltávolítja a régi indexet, újrakezdi 0-tól\n",
    "pilota_lista = result[\"Nev\"].drop_duplicates().reset_index(drop=True)\n",
    "\n",
    "# 4. Az eredmény megjelenítése\n",
    "display(pilota_lista)\n",
    "\n"
   ]
  },
  {
   "cell_type": "markdown",
   "id": "4385a60b",
   "metadata": {},
   "source": [
    "## 2. Listázza ki azon autókat, melyeknek teljesítménye 700 és 800 kW közé esik!\n"
   ]
  },
  {
   "cell_type": "code",
   "execution_count": 9,
   "id": "482f15e7",
   "metadata": {},
   "outputs": [
    {
     "data": {
      "text/html": [
       "<div>\n",
       "<style scoped>\n",
       "    .dataframe tbody tr th:only-of-type {\n",
       "        vertical-align: middle;\n",
       "    }\n",
       "\n",
       "    .dataframe tbody tr th {\n",
       "        vertical-align: top;\n",
       "    }\n",
       "\n",
       "    .dataframe thead th {\n",
       "        text-align: right;\n",
       "    }\n",
       "</style>\n",
       "<table border=\"1\" class=\"dataframe\">\n",
       "  <thead>\n",
       "    <tr style=\"text-align: right;\">\n",
       "      <th></th>\n",
       "      <th>nev</th>\n",
       "      <th>teljesitmeny</th>\n",
       "    </tr>\n",
       "  </thead>\n",
       "  <tbody>\n",
       "    <tr>\n",
       "      <th>0</th>\n",
       "      <td>T16</td>\n",
       "      <td>798</td>\n",
       "    </tr>\n",
       "    <tr>\n",
       "      <th>1</th>\n",
       "      <td>D2</td>\n",
       "      <td>797</td>\n",
       "    </tr>\n",
       "    <tr>\n",
       "      <th>2</th>\n",
       "      <td>RS01</td>\n",
       "      <td>795</td>\n",
       "    </tr>\n",
       "    <tr>\n",
       "      <th>3</th>\n",
       "      <td>1</td>\n",
       "      <td>795</td>\n",
       "    </tr>\n",
       "    <tr>\n",
       "      <th>4</th>\n",
       "      <td>RB14</td>\n",
       "      <td>795</td>\n",
       "    </tr>\n",
       "    <tr>\n",
       "      <th>...</th>\n",
       "      <td>...</td>\n",
       "      <td>...</td>\n",
       "    </tr>\n",
       "    <tr>\n",
       "      <th>93</th>\n",
       "      <td>VJM08B</td>\n",
       "      <td>702</td>\n",
       "    </tr>\n",
       "    <tr>\n",
       "      <th>94</th>\n",
       "      <td>PC3</td>\n",
       "      <td>702</td>\n",
       "    </tr>\n",
       "    <tr>\n",
       "      <th>95</th>\n",
       "      <td>21</td>\n",
       "      <td>701</td>\n",
       "    </tr>\n",
       "    <tr>\n",
       "      <th>96</th>\n",
       "      <td>FW28B</td>\n",
       "      <td>701</td>\n",
       "    </tr>\n",
       "    <tr>\n",
       "      <th>97</th>\n",
       "      <td>CT01</td>\n",
       "      <td>700</td>\n",
       "    </tr>\n",
       "  </tbody>\n",
       "</table>\n",
       "<p>98 rows × 2 columns</p>\n",
       "</div>"
      ],
      "text/plain": [
       "       nev  teljesitmeny\n",
       "0      T16           798\n",
       "1       D2           797\n",
       "2     RS01           795\n",
       "3        1           795\n",
       "4     RB14           795\n",
       "..     ...           ...\n",
       "93  VJM08B           702\n",
       "94     PC3           702\n",
       "95      21           701\n",
       "96   FW28B           701\n",
       "97    CT01           700\n",
       "\n",
       "[98 rows x 2 columns]"
      ]
     },
     "metadata": {},
     "output_type": "display_data"
    }
   ],
   "source": [
    "# Győződjünk meg róla, hogy a teljesítmény numerikus\n",
    "autok[\"teljesitmeny\"] = pd.to_numeric(autok[\"teljesitmeny\"], errors=\"coerce\")\n",
    "\n",
    "# Szűrés: teljesítmény 700–800 kW\n",
    "filtered_autok = autok[(autok[\"teljesitmeny\"] >= 700) & (autok[\"teljesitmeny\"] <= 800)]\n",
    "\n",
    "# Csak az oszlopok, amik érdekelnek, és rendezés csökkenő sorrendben\n",
    "result = (\n",
    "    # Kiválasztjuk a 'nev' és 'teljesitmeny' oszlopokat a 'filtered_autok' DataFrame-ből\n",
    "    filtered_autok[[\"nev\", \"teljesitmeny\"]]\n",
    "    \n",
    "    # Sorba rendezzük a DataFrame-et a 'teljesitmeny' oszlop szerint csökkenő sorrendben\n",
    "    .sort_values(by=\"teljesitmeny\", ascending=False)\n",
    "    \n",
    "    # Újraindexeljük a DataFrame-et 0-tól kezdődő sorszámozással, a régi indexet eldobva\n",
    "    .reset_index(drop=True)\n",
    ")\n",
    "\n",
    "display(result)\n"
   ]
  },
  {
   "cell_type": "markdown",
   "id": "06a4db75",
   "metadata": {},
   "source": [
    "## 3. Ki volt a legeredményesebb konstruktőr csapatfőnöke a 2003 és 2007 közötti versenyszezonok intervallumában?"
   ]
  },
  {
   "cell_type": "code",
   "execution_count": 10,
   "id": "a4f14ce9",
   "metadata": {},
   "outputs": [
    {
     "name": "stdout",
     "output_type": "stream",
     "text": [
      "['helyezes_id', 'versenyzo_id', 'elert_helyezes', 'pole_poz', 'verseny_ido', 'szezon_id', 'futam_id', 'auto_id', 'konstruktor_id', 'korok_szama', 'ev']\n"
     ]
    },
    {
     "data": {
      "text/html": [
       "<div>\n",
       "<style scoped>\n",
       "    .dataframe tbody tr th:only-of-type {\n",
       "        vertical-align: middle;\n",
       "    }\n",
       "\n",
       "    .dataframe tbody tr th {\n",
       "        vertical-align: top;\n",
       "    }\n",
       "\n",
       "    .dataframe thead th {\n",
       "        text-align: right;\n",
       "    }\n",
       "</style>\n",
       "<table border=\"1\" class=\"dataframe\">\n",
       "  <thead>\n",
       "    <tr style=\"text-align: right;\">\n",
       "      <th></th>\n",
       "      <th>csapatvezeto</th>\n",
       "      <th>db</th>\n",
       "    </tr>\n",
       "  </thead>\n",
       "  <tbody>\n",
       "    <tr>\n",
       "      <th>4</th>\n",
       "      <td>Thea Beach</td>\n",
       "      <td>42</td>\n",
       "    </tr>\n",
       "  </tbody>\n",
       "</table>\n",
       "</div>"
      ],
      "text/plain": [
       "  csapatvezeto  db\n",
       "4   Thea Beach  42"
      ]
     },
     "metadata": {},
     "output_type": "display_data"
    }
   ],
   "source": [
    "# Győződjünk meg róla, hogy az 'ev' oszlop datetime\n",
    "szezonok[\"ev\"] = pd.to_datetime(szezonok[\"ev\"], errors=\"coerce\")\n",
    "\n",
    "# Merge helyezesek + szezonok\n",
    "merged = helyezesek.merge(szezonok, on=\"szezon_id\")\n",
    "\n",
    "# Oszlopok ellenőrzése\n",
    "print(merged.columns.tolist())\n",
    "\n",
    "# Szűrés: 2003-2007 közötti szezonok és első helyezés\n",
    "filtered = merged[\n",
    "    (merged[\"ev\"].dt.year >= 2003) &\n",
    "    (merged[\"ev\"].dt.year <= 2007) &\n",
    "    (merged[\"elert_helyezes\"] == 1)\n",
    "]\n",
    "\n",
    "# Merge konstruktorok a csapatvezető nevéhez\n",
    "merged_final = filtered.merge(\n",
    "    konstruktorok[[\"konstruktor_id\", \"csapatvezeto\"]],\n",
    "    on=\"konstruktor_id\"\n",
    ")\n",
    "\n",
    "# Csoportosítás és számolás\n",
    "result = (\n",
    "    # Csoportosítás a 'merged_final' DataFrame-ben a 'csapatvezeto' oszlop szerint\n",
    "    # Ez a konstruktor csapatfőnök neve\n",
    "    merged_final.groupby(\"csapatvezeto\")[\"elert_helyezes\"]\n",
    "    \n",
    "    # Megszámolja az egyes csapatfőnökökhöz tartozó sorok számát,\n",
    "    # vagyis hány versenyt nyertek (minden első helyezés)\n",
    "    .count()\n",
    "    \n",
    "    # Az eredményt átalakítjuk DataFrame-é, és az új oszlopot 'db'-nek nevezzük\n",
    "    .reset_index(name=\"db\")\n",
    "    \n",
    "    # Csökkenő sorrendbe rendezzük a győzelmek számát\n",
    "    .sort_values(by=\"db\", ascending=False)\n",
    "    \n",
    "    # Csak az első sort tartjuk meg, ami a legeredményesebb csapatfőnök\n",
    "    .head(1)\n",
    ")\n",
    "\n",
    "# Megjelenítjük az eredményt\n",
    "display(result)\n",
    "\n"
   ]
  },
  {
   "cell_type": "markdown",
   "id": "157cf87e",
   "metadata": {},
   "source": [
    "## 4. Számítsa ki a különböző időjárási viszonyok között rendezett futamok számát!"
   ]
  },
  {
   "cell_type": "code",
   "execution_count": 11,
   "id": "65d9bb77",
   "metadata": {},
   "outputs": [
    {
     "name": "stdout",
     "output_type": "stream",
     "text": [
      "['futam_id', 'szezon_id', 'helyszin_id', 'datum', 'ido', 'idojarasi_korulmeny_id', 'nev']\n"
     ]
    },
    {
     "data": {
      "text/html": [
       "<div>\n",
       "<style scoped>\n",
       "    .dataframe tbody tr th:only-of-type {\n",
       "        vertical-align: middle;\n",
       "    }\n",
       "\n",
       "    .dataframe tbody tr th {\n",
       "        vertical-align: top;\n",
       "    }\n",
       "\n",
       "    .dataframe thead th {\n",
       "        text-align: right;\n",
       "    }\n",
       "</style>\n",
       "<table border=\"1\" class=\"dataframe\">\n",
       "  <thead>\n",
       "    <tr style=\"text-align: right;\">\n",
       "      <th></th>\n",
       "      <th>nev</th>\n",
       "      <th>db</th>\n",
       "    </tr>\n",
       "  </thead>\n",
       "  <tbody>\n",
       "    <tr>\n",
       "      <th>3</th>\n",
       "      <td>kodos</td>\n",
       "      <td>137</td>\n",
       "    </tr>\n",
       "    <tr>\n",
       "      <th>0</th>\n",
       "      <td>eso</td>\n",
       "      <td>135</td>\n",
       "    </tr>\n",
       "    <tr>\n",
       "      <th>8</th>\n",
       "      <td>villam</td>\n",
       "      <td>127</td>\n",
       "    </tr>\n",
       "    <tr>\n",
       "      <th>4</th>\n",
       "      <td>napos</td>\n",
       "      <td>124</td>\n",
       "    </tr>\n",
       "    <tr>\n",
       "      <th>5</th>\n",
       "      <td>paras</td>\n",
       "      <td>118</td>\n",
       "    </tr>\n",
       "    <tr>\n",
       "      <th>6</th>\n",
       "      <td>szaraz</td>\n",
       "      <td>118</td>\n",
       "    </tr>\n",
       "    <tr>\n",
       "      <th>2</th>\n",
       "      <td>felhoszakadas</td>\n",
       "      <td>116</td>\n",
       "    </tr>\n",
       "    <tr>\n",
       "      <th>7</th>\n",
       "      <td>vihar</td>\n",
       "      <td>107</td>\n",
       "    </tr>\n",
       "    <tr>\n",
       "      <th>1</th>\n",
       "      <td>felhos</td>\n",
       "      <td>97</td>\n",
       "    </tr>\n",
       "  </tbody>\n",
       "</table>\n",
       "</div>"
      ],
      "text/plain": [
       "             nev   db\n",
       "3          kodos  137\n",
       "0            eso  135\n",
       "8         villam  127\n",
       "4          napos  124\n",
       "5          paras  118\n",
       "6         szaraz  118\n",
       "2  felhoszakadas  116\n",
       "7          vihar  107\n",
       "1         felhos   97"
      ]
     },
     "metadata": {},
     "output_type": "display_data"
    }
   ],
   "source": [
    "# Merge futamok és idojarasi_korulmenyek a nev oszlophoz\n",
    "merged = futamok.merge(\n",
    "    idojarasi_korulmenyek[[\"idojarasi_korulmeny_id\", \"nev\"]],\n",
    "    on=\"idojarasi_korulmeny_id\"\n",
    ")\n",
    "\n",
    "# Oszlopok ellenőrzése\n",
    "print(merged.columns.tolist())\n",
    "\n",
    "# Csoportosítás és számolás\n",
    "result = (\n",
    "    # Csoportosítás a 'merged' DataFrame-ben a 'nev' oszlop szerint\n",
    "    # Ez az időjárási viszony neve (pl. 'paras', 'esos', stb.)\n",
    "    merged.groupby(\"nev\")[\"idojarasi_korulmeny_id\"]\n",
    "    \n",
    "    # Megszámolja az egyes csoportokban hány sor van,\n",
    "    # vagyis hány futamot tartalmaz az adott időjárási viszony\n",
    "    .count()\n",
    "    \n",
    "    # Az eredményt átalakítjuk DataFrame-é, és az új oszlopot 'db'-nek nevezzük\n",
    "    .reset_index(name=\"db\")\n",
    "    \n",
    "    # Csökkenő sorrendbe rendezzük az időjárási viszonyok szerinti futamszámot\n",
    "    .sort_values(by=\"db\", ascending=False)\n",
    ")\n",
    "\n",
    "# Megjelenítjük az eredményt\n",
    "display(result)\n",
    "\n"
   ]
  },
  {
   "cell_type": "code",
   "execution_count": null,
   "id": "9f89db88",
   "metadata": {},
   "outputs": [
    {
     "data": {
      "image/png": "[encoded data removed]",
      "text/plain": [
       "<Figure size 800x800 with 1 Axes>"
      ]
     },
     "metadata": {},
     "output_type": "display_data"
    }
   ],
   "source": [
    "import matplotlib.pyplot as plt  \n",
    "\n",
    "# Adatok a diagramhoz\n",
    "labels = result[\"nev\"] # Az 'nev' oszlopot választjuk ki, ami az időjárási viszonyok neveit tartalmazza (pl. 'szaraz', 'esos')\n",
    "sizes = result[\"db\"] # A 'db' oszlopot választjuk ki, ami az egyes időjárási viszonyokhoz tartozó futamok számát tartalmazza\n",
    "\n",
    "# Figure (ábra) beállítása\n",
    "plt.figure(figsize=(8,8)) # Új ábra létrehozása\n",
    "\n",
    "# Kördiagram létrehozása\n",
    "plt.pie(\n",
    "    sizes, # A szeletek méreteit tartalmazó adatok (futamok száma)\n",
    "    labels=labels, # A szeletekhez tartozó feliratok (időjárási viszonyok neve)\n",
    "    autopct='%1.1f%%', # Az értékek százalékos formában történő megjelenítése, 1 tizedesjegy pontossággal\n",
    "    startangle=90, # A kördiagram kiinduló szöge 90 fok, így a diagram az óramutató járásával kezdődik felülről\n",
    "    colors=plt.cm.tab20.colors # A szeletek színei a matplotlib 'tab20' színskálájából kerülnek kiválasztásra\n",
    ")\n",
    "\n",
    "# Diagram címe\n",
    "plt.title(\"Futamok százalékos eloszlása időjárási viszonyok szerint\", fontsize=14)  # Cím megadása és betűméret\n",
    "\n",
    "# Equal aspect ratio\n",
    "plt.axis('equal') # Az x és y tengely arányának egyenlővé tétele, hogy a kör valóban kör legyen, ne ellipszis\n",
    "\n",
    "# Megjelenítés\n",
    "plt.show() # A diagram megjelenítése\n"
   ]
  },
  {
   "cell_type": "markdown",
   "id": "3b9ff791",
   "metadata": {},
   "source": [
    "## 5. Melyik 5, a konstruktőrök alapítási helye szerinti ország rendelkezik a legtöbb győzelemmel?\n"
   ]
  },
  {
   "cell_type": "code",
   "execution_count": 13,
   "id": "4c606caf",
   "metadata": {},
   "outputs": [
    {
     "name": "stdout",
     "output_type": "stream",
     "text": [
      "['helyezes_id', 'versenyzo_id', 'elert_helyezes', 'pole_poz', 'verseny_ido', 'szezon_id', 'futam_id', 'auto_id', 'konstruktor_id', 'korok_szama', 'orszag']\n"
     ]
    },
    {
     "data": {
      "text/html": [
       "<div>\n",
       "<style scoped>\n",
       "    .dataframe tbody tr th:only-of-type {\n",
       "        vertical-align: middle;\n",
       "    }\n",
       "\n",
       "    .dataframe tbody tr th {\n",
       "        vertical-align: top;\n",
       "    }\n",
       "\n",
       "    .dataframe thead th {\n",
       "        text-align: right;\n",
       "    }\n",
       "</style>\n",
       "<table border=\"1\" class=\"dataframe\">\n",
       "  <thead>\n",
       "    <tr style=\"text-align: right;\">\n",
       "      <th></th>\n",
       "      <th>orszag</th>\n",
       "      <th>Gyozelmek_szama</th>\n",
       "    </tr>\n",
       "  </thead>\n",
       "  <tbody>\n",
       "    <tr>\n",
       "      <th>2</th>\n",
       "      <td>Egyesult Kiralysag</td>\n",
       "      <td>494</td>\n",
       "    </tr>\n",
       "    <tr>\n",
       "      <th>8</th>\n",
       "      <td>Olaszorszag</td>\n",
       "      <td>281</td>\n",
       "    </tr>\n",
       "    <tr>\n",
       "      <th>7</th>\n",
       "      <td>Nemetorszag</td>\n",
       "      <td>126</td>\n",
       "    </tr>\n",
       "    <tr>\n",
       "      <th>0</th>\n",
       "      <td>Ausztria</td>\n",
       "      <td>84</td>\n",
       "    </tr>\n",
       "    <tr>\n",
       "      <th>3</th>\n",
       "      <td>Franciaorszag</td>\n",
       "      <td>54</td>\n",
       "    </tr>\n",
       "  </tbody>\n",
       "</table>\n",
       "</div>"
      ],
      "text/plain": [
       "               orszag  Gyozelmek_szama\n",
       "2  Egyesult Kiralysag              494\n",
       "8         Olaszorszag              281\n",
       "7         Nemetorszag              126\n",
       "0            Ausztria               84\n",
       "3       Franciaorszag               54"
      ]
     },
     "metadata": {},
     "output_type": "display_data"
    }
   ],
   "source": [
    "# Szűrés: csak az 1. helyezések\n",
    "wins = helyezesek[helyezesek[\"elert_helyezes\"] == 1]\n",
    "\n",
    "# Merge a konstruktorokkal, hogy megkapjuk az országot\n",
    "merged = wins.merge(konstruktorok[[\"konstruktor_id\", \"orszag\"]], on=\"konstruktor_id\")\n",
    "\n",
    "# Oszlopok ellenőrzése\n",
    "print(merged.columns.tolist())\n",
    "\n",
    "# Győzelmek száma országonként\n",
    "result = (\n",
    "    # Csoportosítjuk a 'merged' DataFrame-et az 'orszag' oszlop szerint\n",
    "    merged.groupby(\"orszag\")\n",
    "    \n",
    "    # Minden csoportban megszámoljuk a sorok számát (itt ez a győzelmek száma)\n",
    "    .size()\n",
    "    \n",
    "    # Átalakítjuk DataFrame-é, és az új oszlopot elnevezzük 'Gyozelmek_szama'-nak\n",
    "    .reset_index(name=\"Gyozelmek_szama\")\n",
    "    \n",
    "    # Csökkenő sorrendbe rendezzük a győzelmek száma szerint\n",
    "    .sort_values(\"Gyozelmek_szama\", ascending=False)\n",
    "    \n",
    "    # Csak az első 5 sort tartjuk meg (legtöbb győzelem)\n",
    "    .head(5)\n",
    ")\n",
    "\n",
    "# Eredmény megjelenítése\n",
    "display(result)\n"
   ]
  },
  {
   "cell_type": "code",
   "execution_count": null,
   "id": "3de6477a",
   "metadata": {},
   "outputs": [
    {
     "data": {
      "image/png": "[encoded data removed]",
      "text/plain": [
       "<Figure size 1000x600 with 1 Axes>"
      ]
     },
     "metadata": {},
     "output_type": "display_data"
    }
   ],
   "source": [
    "# Adatok kiválasztása a diagramhoz\n",
    "countries = result[\"orszag\"]          # Az országneveket tartalmazó oszlopot választjuk ki az x-tengelyhez\n",
    "wins = result[\"Gyozelmek_szama\"]      # A győzelmek számát tartalmazó oszlopot választjuk ki az y-tengelyhez\n",
    "\n",
    "# Figure (ábra) létrehozása\n",
    "plt.figure(figsize=(10,6))  # Új ábra létrehozása\n",
    "\n",
    "# Oszlopdiagram készítése\n",
    "plt.bar(\n",
    "    countries,                # x-tengely: országok\n",
    "    wins,                     # y-tengely: győzelmek száma\n",
    "    color='skyblue',          # Oszlopok belső színe világoskék\n",
    "    edgecolor='black'         # Oszlopok szélét fekete színnel rajzoljuk ki\n",
    ")\n",
    "\n",
    "# Diagram címe és tengelyfeliratok\n",
    "plt.title(\"Top 5 ország a győzelmek száma alapján\", fontsize=16)  # Diagram főcíme\n",
    "plt.xlabel(\"Ország\", fontsize=12) # x-tengely felirat\n",
    "plt.ylabel(\"Győzelmek száma\", fontsize=12) # y-tengely felirat\n",
    "\n",
    "# Az oszlopok tetejére kiírjuk a győzelmek számát\n",
    "for i, v in enumerate(wins): # Végigmegyünk az összes győzelmi értéken, i az index, v az érték\n",
    "    plt.text(\n",
    "        i, # x-koordináta (oszlop helye)\n",
    "        v + 5, # y-koordináta (oszlop teteje + 5 egység, hogy ne lógjon rá)\n",
    "        str(v), # Kiírandó szöveg, az érték karakterként\n",
    "        ha='center', # Középre igazítás\n",
    "        fontsize=10 # Szöveg betűmérete\n",
    "    )\n",
    "\n",
    "# Diagram megjelenítése\n",
    "plt.tight_layout()   # Automatikusan beállítja a margókat, hogy a címek és feliratok ne legyenek levágva\n",
    "plt.show()           # Megjeleníti a diagramot\n"
   ]
  }
 ],
 "metadata": {
  "kernelspec": {
   "display_name": "Python 3",
   "language": "python",
   "name": "python3"
  },
  "language_info": {
   "codemirror_mode": {
    "name": "ipython",
    "version": 3
   },
   "file_extension": ".py",
   "mimetype": "text/x-python",
   "name": "python",
   "nbconvert_exporter": "python",
   "pygments_lexer": "ipython3",
   "version": "3.10.12"
  }
 },
 "nbformat": 4,
 "nbformat_minor": 5
}
