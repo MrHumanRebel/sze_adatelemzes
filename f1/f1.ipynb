{
 "cells": [
  {
   "cell_type": "markdown",
   "id": "e516e5cf",
   "metadata": {},
   "source": [
    "# Adatbeolvasás"
   ]
  },
  {
   "cell_type": "code",
   "execution_count": null,
   "id": "acbf2c18",
   "metadata": {},
   "outputs": [],
   "source": [
    "# 📦 Szükséges csomagok importálása\n",
    "import pandas as pd\n",
    "import numpy as np\n",
    "\n",
    "print(\"Csomagok betöltve, készen állunk!\")\n"
   ]
  },
  {
   "cell_type": "code",
   "execution_count": null,
   "id": "d8c5409f",
   "metadata": {},
   "outputs": [],
   "source": [
    "# 📂 CSV fájlok helye\n",
    "csv_path = \"/home/g14/sze_adatelemzes/danci/database\"\n",
    "\n",
    "# CSV fájlok beolvasása\n",
    "versenyzok = pd.read_csv(f\"{csv_path}/f1_dataset_versenyzok.csv\")\n",
    "konstruktorok = pd.read_csv(f\"{csv_path}/f1_dataset_konstruktorok.csv\")\n",
    "helyszinek = pd.read_csv(f\"{csv_path}/f1_dataset_helyszinek.csv\")\n",
    "idojarasi_korulmenyek = pd.read_csv(f\"{csv_path}/f1_dataset_idojarasi_korulmenyek.csv\")\n",
    "autok = pd.read_csv(f\"{csv_path}/f1_dataset_autok.csv\")\n",
    "szezonok = pd.read_csv(f\"{csv_path}/f1_dataset_szezonok.csv\")\n",
    "futamok = pd.read_csv(f\"{csv_path}/f1_dataset_futamok.csv\")\n",
    "helyezesek = pd.read_csv(f\"{csv_path}/f1_dataset_helyezesek.csv\")\n",
    "\n",
    "print(\"CSV fájlok sikeresen betöltve!\")\n"
   ]
  },
  {
   "cell_type": "code",
   "execution_count": null,
   "id": "c821b41c",
   "metadata": {},
   "outputs": [],
   "source": [
    "# 📊 Versenyzők táblázat előnézete\n",
    "display(versenyzok.head())"
   ]
  },
  {
   "cell_type": "markdown",
   "id": "49d92635",
   "metadata": {},
   "source": [
    "# Típuskonverziók"
   ]
  },
  {
   "cell_type": "code",
   "execution_count": null,
   "id": "d05921da",
   "metadata": {},
   "outputs": [],
   "source": [
    "# 🔄 Adattípus konverziók\n",
    "\n",
    "#  A 'szuletesi_datum' oszlopot datetime típusra konvertáljuk.\n",
    "#  Ha az érték nem konvertálható, NaT lesz (errors=\"coerce\").\n",
    "versenyzok[\"szuletesi_datum\"] = pd.to_datetime(\n",
    "    versenyzok[\"szuletesi_datum\"], errors=\"coerce\"\n",
    ")\n",
    "\n",
    "#  A 'datum' oszlopot datetime típusú dátummá konvertáljuk.\n",
    "#  Csak a dátumot tartjuk meg (.dt.date), az időt eldobjuk.\n",
    "futamok[\"datum\"] = pd.to_datetime(futamok[\"datum\"], errors=\"coerce\").dt.date\n",
    "\n",
    "#  Az 'ido' oszlopot datetime típusú idővé konvertáljuk a \"%H:%M:%S\" formátum szerint.\n",
    "#  Csak az időt tartjuk meg (.dt.time).\n",
    "futamok[\"ido\"] = pd.to_datetime(\n",
    "    futamok[\"ido\"], format=\"%H:%M:%S\", errors=\"coerce\"\n",
    ").dt.time\n",
    "\n",
    "#  A 'ev' oszlopot datetime formátumra konvertáljuk, csak az év alapján.\n",
    "#  Ha csak az év szerepel, január 1. lesz automatikusan hozzárendelve.\n",
    "szezonok[\"ev\"] = pd.to_datetime(\n",
    "    szezonok[\"ev\"], format=\"%Y\", errors=\"coerce\"\n",
    ")\n",
    "\n",
    "#  A 'verseny_ido' oszlopot datetime típusú idővé konvertáljuk a \"%H:%M:%S\" formátum szerint.\n",
    "#  Csak az időt tartjuk meg (.dt.time).\n",
    "helyezesek[\"verseny_ido\"] = pd.to_datetime(\n",
    "    helyezesek[\"verseny_ido\"], format=\"%H:%M:%S\", errors=\"coerce\"\n",
    ").dt.time\n",
    "\n",
    "# Kiírás a felhasználónak, hogy minden konverzió sikeresen végrehajtva\n",
    "print(\"Adattípus konverziók sikeresen végrehajtva!\")\n"
   ]
  },
  {
   "cell_type": "markdown",
   "id": "b1d78771",
   "metadata": {},
   "source": [
    "# Formátum ellenőrzés"
   ]
  },
  {
   "cell_type": "code",
   "execution_count": null,
   "id": "3d485a64",
   "metadata": {},
   "outputs": [],
   "source": [
    "# ✅ Ellenőrzés: adattípusok megtekintése\n",
    "print(\"Versenyzők:\\n\", versenyzok.dtypes, \"\\n\")\n",
    "print(\"Futamok:\\n\", futamok.dtypes, \"\\n\")\n",
    "print(\"Szezonok:\\n\", szezonok.dtypes, \"\\n\")\n",
    "print(\"Helyezések:\\n\", helyezesek.dtypes, \"\\n\")\n"
   ]
  },
  {
   "cell_type": "markdown",
   "id": "254d6c02",
   "metadata": {},
   "source": [
    "# Statisztikai jellemzők"
   ]
  },
  {
   "cell_type": "code",
   "execution_count": null,
   "id": "4494c397",
   "metadata": {},
   "outputs": [],
   "source": [
    "# Listázunk minden DataFrame-et egy szótárban\n",
    "dfs = {\n",
    "    \"versenyzok\": versenyzok,\n",
    "    \"konstruktorok\": konstruktorok,\n",
    "    \"helyszinek\": helyszinek,\n",
    "    \"idojarasi_korulmenyek\": idojarasi_korulmenyek,\n",
    "    \"autok\": autok,\n",
    "    \"szezonok\": szezonok,\n",
    "    \"futamok\": futamok,\n",
    "    \"helyezesek\": helyezesek\n",
    "}\n",
    "\n",
    "# Minden DataFrame statisztikai jellemzőinek kiíratása\n",
    "for name, df in dfs.items():\n",
    "    print(f\"Tábla neve: {name}\")\n",
    "    print(f\"Sorok és oszlopok: {df.shape}\")\n",
    "    print(\"\\n\")"
   ]
  },
  {
   "cell_type": "markdown",
   "id": "df8ed7ed",
   "metadata": {},
   "source": [
    "# Lekérdezések"
   ]
  },
  {
   "cell_type": "markdown",
   "id": "d7a984e1",
   "metadata": {},
   "source": [
    "## 1. Listázza ki azokat a pilótákat, akik pole pozícióból kerültek dobogós helyre a 2019-es szezonban!"
   ]
  },
  {
   "cell_type": "code",
   "execution_count": null,
   "id": "eeab279d",
   "metadata": {},
   "outputs": [],
   "source": [
    "# Merge: helyezesek + szezonok (2019-re szűrés)\n",
    "merged = helyezesek.merge(szezonok, on=\"szezon_id\")\n",
    "\n",
    "# Oszlopok ellenőrzése\n",
    "print(merged.columns.tolist())\n",
    "\n",
    "# Szűrés: 2019, dobogó, pole\n",
    "filtered = merged[\n",
    "    (merged[\"ev\"].dt.year == 2019) &   # szezon 2019\n",
    "    (merged[\"elert_helyezes\"] <= 3) &  # dobogó\n",
    "    (merged[\"pole_poz\"] == 1)          # pole pozíció\n",
    "]\n",
    "\n",
    "# Merge (összekapcsolás) a 'filtered' DataFrame és a 'versenyzok' DataFrame között\n",
    "# a 'versenyzo_id' oszlop alapján, hogy megkapjuk a versenyzők nevét\n",
    "result = filtered.merge(versenyzok, on=\"versenyzo_id\")\n",
    "\n",
    "# Új oszlop létrehozása 'Nev' néven, ahol a kereszt- és vezetéknév össze van fűzve\n",
    "result[\"Nev\"] = result[\"keresztnev\"] + \" \" + result[\"vezeteknev\"]\n",
    "\n",
    "# Csak a különböző neveket hagyjuk meg (DISTINCT)\n",
    "# A reset_index(drop=True) eltávolítja a régi indexet, újrakezdi 0-tól\n",
    "pilota_lista = result[\"Nev\"].drop_duplicates().reset_index(drop=True)\n",
    "\n",
    "# 4. Az eredmény megjelenítése\n",
    "display(pilota_lista)\n",
    "\n"
   ]
  },
  {
   "cell_type": "markdown",
   "id": "4385a60b",
   "metadata": {},
   "source": [
    "## 2. Listázza ki azon autókat, melyeknek teljesítménye 700 és 800 kW közé esik!\n"
   ]
  },
  {
   "cell_type": "code",
   "execution_count": null,
   "id": "482f15e7",
   "metadata": {},
   "outputs": [],
   "source": [
    "# Győződjünk meg róla, hogy a teljesítmény numerikus\n",
    "autok[\"teljesitmeny\"] = pd.to_numeric(autok[\"teljesitmeny\"], errors=\"coerce\")\n",
    "\n",
    "# Szűrés: teljesítmény 700–800 kW\n",
    "filtered_autok = autok[(autok[\"teljesitmeny\"] >= 700) & (autok[\"teljesitmeny\"] <= 800)]\n",
    "\n",
    "# Csak az oszlopok, amik érdekelnek, és rendezés csökkenő sorrendben\n",
    "result = (\n",
    "    # Kiválasztjuk a 'nev' és 'teljesitmeny' oszlopokat a 'filtered_autok' DataFrame-ből\n",
    "    filtered_autok[[\"nev\", \"teljesitmeny\"]]\n",
    "    \n",
    "    # Sorba rendezzük a DataFrame-et a 'teljesitmeny' oszlop szerint csökkenő sorrendben\n",
    "    .sort_values(by=\"teljesitmeny\", ascending=False)\n",
    "    \n",
    "    # Újraindexeljük a DataFrame-et 0-tól kezdődő sorszámozással, a régi indexet eldobva\n",
    "    .reset_index(drop=True)\n",
    ")\n",
    "\n",
    "display(result)\n"
   ]
  },
  {
   "cell_type": "markdown",
   "id": "06a4db75",
   "metadata": {},
   "source": [
    "## 3. Ki volt a legeredményesebb konstruktőr csapatfőnöke a 2003 és 2007 közötti versenyszezonok intervallumában?"
   ]
  },
  {
   "cell_type": "code",
   "execution_count": null,
   "id": "a4f14ce9",
   "metadata": {},
   "outputs": [],
   "source": [
    "# Győződjünk meg róla, hogy az 'ev' oszlop datetime\n",
    "szezonok[\"ev\"] = pd.to_datetime(szezonok[\"ev\"], errors=\"coerce\")\n",
    "\n",
    "# Merge helyezesek + szezonok\n",
    "merged = helyezesek.merge(szezonok, on=\"szezon_id\")\n",
    "\n",
    "# Oszlopok ellenőrzése\n",
    "print(merged.columns.tolist())\n",
    "\n",
    "# Szűrés: 2003-2007 közötti szezonok és első helyezés\n",
    "filtered = merged[\n",
    "    (merged[\"ev\"].dt.year >= 2003) &\n",
    "    (merged[\"ev\"].dt.year <= 2007) &\n",
    "    (merged[\"elert_helyezes\"] == 1)\n",
    "]\n",
    "\n",
    "# Merge konstruktorok a csapatvezető nevéhez\n",
    "merged_final = filtered.merge(\n",
    "    konstruktorok[[\"konstruktor_id\", \"csapatvezeto\"]],\n",
    "    on=\"konstruktor_id\"\n",
    ")\n",
    "\n",
    "# Csoportosítás és számolás\n",
    "result = (\n",
    "    # Csoportosítás a 'merged_final' DataFrame-ben a 'csapatvezeto' oszlop szerint\n",
    "    # Ez a konstruktor csapatfőnök neve\n",
    "    merged_final.groupby(\"csapatvezeto\")[\"elert_helyezes\"]\n",
    "    \n",
    "    # Megszámolja az egyes csapatfőnökökhöz tartozó sorok számát,\n",
    "    # vagyis hány versenyt nyertek (minden első helyezés)\n",
    "    .count()\n",
    "    \n",
    "    # Az eredményt átalakítjuk DataFrame-é, és az új oszlopot 'db'-nek nevezzük\n",
    "    .reset_index(name=\"db\")\n",
    "    \n",
    "    # Csökkenő sorrendbe rendezzük a győzelmek számát\n",
    "    .sort_values(by=\"db\", ascending=False)\n",
    "    \n",
    "    # Csak az első sort tartjuk meg, ami a legeredményesebb csapatfőnök\n",
    "    .head(1)\n",
    ")\n",
    "\n",
    "# Megjelenítjük az eredményt\n",
    "display(result)\n",
    "\n"
   ]
  },
  {
   "cell_type": "markdown",
   "id": "157cf87e",
   "metadata": {},
   "source": [
    "## 4. Számítsa ki a különböző időjárási viszonyok között rendezett futamok számát!"
   ]
  },
  {
   "cell_type": "code",
   "execution_count": null,
   "id": "65d9bb77",
   "metadata": {},
   "outputs": [],
   "source": [
    "# Merge futamok és idojarasi_korulmenyek a nev oszlophoz\n",
    "merged = futamok.merge(\n",
    "    idojarasi_korulmenyek[[\"idojarasi_korulmeny_id\", \"nev\"]],\n",
    "    on=\"idojarasi_korulmeny_id\"\n",
    ")\n",
    "\n",
    "# Oszlopok ellenőrzése\n",
    "print(merged.columns.tolist())\n",
    "\n",
    "# Csoportosítás és számolás\n",
    "result = (\n",
    "    # Csoportosítás a 'merged' DataFrame-ben a 'nev' oszlop szerint\n",
    "    # Ez az időjárási viszony neve (pl. 'paras', 'esos', stb.)\n",
    "    merged.groupby(\"nev\")[\"idojarasi_korulmeny_id\"]\n",
    "    \n",
    "    # Megszámolja az egyes csoportokban hány sor van,\n",
    "    # vagyis hány futamot tartalmaz az adott időjárási viszony\n",
    "    .count()\n",
    "    \n",
    "    # Az eredményt átalakítjuk DataFrame-é, és az új oszlopot 'db'-nek nevezzük\n",
    "    .reset_index(name=\"db\")\n",
    "    \n",
    "    # Csökkenő sorrendbe rendezzük az időjárási viszonyok szerinti futamszámot\n",
    "    .sort_values(by=\"db\", ascending=False)\n",
    ")\n",
    "\n",
    "# Megjelenítjük az eredményt\n",
    "display(result)\n",
    "\n"
   ]
  },
  {
   "cell_type": "markdown",
   "id": "3b9ff791",
   "metadata": {},
   "source": [
    "## 5. Melyik 5, a konstruktőrök alapítási helye szerinti ország rendelkezik a legtöbb győzelemmel?\n"
   ]
  },
  {
   "cell_type": "code",
   "execution_count": null,
   "id": "4c606caf",
   "metadata": {},
   "outputs": [],
   "source": [
    "# Szűrés: csak az 1. helyezések\n",
    "wins = helyezesek[helyezesek[\"elert_helyezes\"] == 1]\n",
    "\n",
    "# Merge a konstruktorokkal, hogy megkapjuk az országot\n",
    "merged = wins.merge(konstruktorok[[\"konstruktor_id\", \"orszag\"]], on=\"konstruktor_id\")\n",
    "\n",
    "# Oszlopok ellenőrzése\n",
    "print(merged.columns.tolist())\n",
    "\n",
    "# Győzelmek száma országonként\n",
    "result = (\n",
    "    # Csoportosítjuk a 'merged' DataFrame-et az 'orszag' oszlop szerint\n",
    "    merged.groupby(\"orszag\")\n",
    "    \n",
    "    # Minden csoportban megszámoljuk a sorok számát (itt ez a győzelmek száma)\n",
    "    .size()\n",
    "    \n",
    "    # Átalakítjuk DataFrame-é, és az új oszlopot elnevezzük 'Gyozelmek_szama'-nak\n",
    "    .reset_index(name=\"Gyozelmek_szama\")\n",
    "    \n",
    "    # Csökkenő sorrendbe rendezzük a győzelmek száma szerint\n",
    "    .sort_values(\"Gyozelmek_szama\", ascending=False)\n",
    "    \n",
    "    # Csak az első 5 sort tartjuk meg (legtöbb győzelem)\n",
    "    .head(5)\n",
    ")\n",
    "\n",
    "# Eredmény megjelenítése\n",
    "display(result)\n"
   ]
  }
 ],
 "metadata": {
  "kernelspec": {
   "display_name": "Python 3",
   "language": "python",
   "name": "python3"
  },
  "language_info": {
   "codemirror_mode": {
    "name": "ipython",
    "version": 3
   },
   "file_extension": ".py",
   "mimetype": "text/x-python",
   "name": "python",
   "nbconvert_exporter": "python",
   "pygments_lexer": "ipython3",
   "version": "3.10.12"
  }
 },
 "nbformat": 4,
 "nbformat_minor": 5
}
